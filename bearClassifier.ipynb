{
 "cells": [
  {
   "cell_type": "code",
   "execution_count": 1,
   "metadata": {},
   "outputs": [],
   "source": [
    "! pip install -Uqq fastbook\n",
    "import fastbook\n",
    "fastbook.setup_book()"
   ]
  },
  {
   "cell_type": "code",
   "execution_count": 3,
   "metadata": {},
   "outputs": [],
   "source": [
    "from fastai.vision.all import *\n",
    "from fastai.vision.widgets import *"
   ]
  },
  {
   "cell_type": "code",
   "execution_count": 4,
   "metadata": {},
   "outputs": [
    {
     "name": "stderr",
     "output_type": "stream",
     "text": [
      "d:\\programming\\project\\venv\\Lib\\site-packages\\fastai\\learner.py:455: UserWarning: load_learner` uses Python's insecure pickle module, which can execute malicious arbitrary code when loading. Only load files you trust.\n",
      "If you only need to load model weights and optimizer state, use the safe `Learner.load` instead.\n",
      "  warn(\"load_learner` uses Python's insecure pickle module, which can execute malicious arbitrary code when loading. Only load files you trust.\\nIf you only need to load model weights and optimizer state, use the safe `Learner.load` instead.\")\n"
     ]
    },
    {
     "data": {
      "text/html": [
       "\n",
       "<style>\n",
       "    /* Turns off some styling */\n",
       "    progress {\n",
       "        /* gets rid of default border in Firefox and Opera. */\n",
       "        border: none;\n",
       "        /* Needs to be in here for Safari polyfill so background images work as expected. */\n",
       "        background-size: auto;\n",
       "    }\n",
       "    progress:not([value]), progress:not([value])::-webkit-progress-bar {\n",
       "        background: repeating-linear-gradient(45deg, #7e7e7e, #7e7e7e 10px, #5c5c5c 10px, #5c5c5c 20px);\n",
       "    }\n",
       "    .progress-bar-interrupted, .progress-bar-interrupted::-webkit-progress-bar {\n",
       "        background: #F44336;\n",
       "    }\n",
       "</style>\n"
      ],
      "text/plain": [
       "<IPython.core.display.HTML object>"
      ]
     },
     "metadata": {},
     "output_type": "display_data"
    },
    {
     "data": {
      "text/html": [],
      "text/plain": [
       "<IPython.core.display.HTML object>"
      ]
     },
     "metadata": {},
     "output_type": "display_data"
    }
   ],
   "source": [
    "path = Path()\n",
    "learn_inf = load_learner(path/'export.pkl', cpu=True)\n",
    "btn_upload = widgets.FileUpload()\n",
    "out_pl = widgets.Output()\n",
    "lbl_pred = widgets.Label()"
   ]
  },
  {
   "cell_type": "code",
   "execution_count": 5,
   "metadata": {},
   "outputs": [],
   "source": [
    "def on_data_change(change):\n",
    "    lbl_pred.value = ''\n",
    "    img = PILImage.create(btn_upload.data[-1])\n",
    "    out_pl.clear_output()\n",
    "    with out_pl: display(img.to_thumb(128,128))\n",
    "    pred,pred_idx,probs = learn_inf.predict(img)\n",
    "    lbl_pred.value = f'Prediction: {pred}; Probability: {probs[pred_idx]:.04f}'"
   ]
  },
  {
   "cell_type": "code",
   "execution_count": 6,
   "metadata": {},
   "outputs": [],
   "source": [
    "btn_upload.observe(on_data_change, names=['data'])"
   ]
  },
  {
   "cell_type": "code",
   "execution_count": 7,
   "metadata": {},
   "outputs": [
    {
     "data": {
      "application/vnd.jupyter.widget-view+json": {
       "model_id": "ab0b50a2c860482ca0d46297d2b9d5d7",
       "version_major": 2,
       "version_minor": 0
      },
      "text/plain": [
       "VBox(children=(Label(value='Select your bear!'), FileUpload(value={}, description='Upload'), Output(), Label(v…"
      ]
     },
     "metadata": {},
     "output_type": "display_data"
    }
   ],
   "source": [
    "display(VBox([widgets.Label('Select your bear!'), btn_upload, out_pl, lbl_pred]))"
   ]
  },
  {
   "cell_type": "code",
   "execution_count": 8,
   "metadata": {},
   "outputs": [
    {
     "name": "stdout",
     "output_type": "stream",
     "text": [
      "Collecting voila\n",
      "  Downloading voila-0.5.8-py3-none-any.whl.metadata (9.5 kB)\n",
      "Requirement already satisfied: jupyter-client<9,>=7.4.4 in .\\venv\\lib\\site-packages (from voila) (8.6.3)\n",
      "Requirement already satisfied: jupyter-core>=4.11.0 in .\\venv\\lib\\site-packages (from voila) (5.8.1)\n",
      "Requirement already satisfied: jupyter-server<3,>=1.18 in .\\venv\\lib\\site-packages (from voila) (2.16.0)\n",
      "Requirement already satisfied: jupyterlab-server<3,>=2.3.0 in .\\venv\\lib\\site-packages (from voila) (2.27.3)\n",
      "Requirement already satisfied: nbclient>=0.4.0 in .\\venv\\lib\\site-packages (from voila) (0.10.2)\n",
      "Requirement already satisfied: nbconvert<8,>=6.4.5 in .\\venv\\lib\\site-packages (from voila) (7.16.6)\n",
      "Requirement already satisfied: traitlets<6,>=5.0.3 in .\\venv\\lib\\site-packages (from voila) (5.14.3)\n",
      "Collecting websockets>=9.0 (from voila)\n",
      "  Downloading websockets-15.0.1-cp312-cp312-win_amd64.whl.metadata (7.0 kB)\n",
      "Requirement already satisfied: python-dateutil>=2.8.2 in .\\venv\\lib\\site-packages (from jupyter-client<9,>=7.4.4->voila) (2.9.0.post0)\n",
      "Requirement already satisfied: pyzmq>=23.0 in .\\venv\\lib\\site-packages (from jupyter-client<9,>=7.4.4->voila) (26.4.0)\n",
      "Requirement already satisfied: tornado>=6.2 in .\\venv\\lib\\site-packages (from jupyter-client<9,>=7.4.4->voila) (6.5.1)\n",
      "Requirement already satisfied: anyio>=3.1.0 in .\\venv\\lib\\site-packages (from jupyter-server<3,>=1.18->voila) (4.9.0)\n",
      "Requirement already satisfied: argon2-cffi>=21.1 in .\\venv\\lib\\site-packages (from jupyter-server<3,>=1.18->voila) (23.1.0)\n",
      "Requirement already satisfied: jinja2>=3.0.3 in .\\venv\\lib\\site-packages (from jupyter-server<3,>=1.18->voila) (3.1.6)\n",
      "Requirement already satisfied: jupyter-events>=0.11.0 in .\\venv\\lib\\site-packages (from jupyter-server<3,>=1.18->voila) (0.12.0)\n",
      "Requirement already satisfied: jupyter-server-terminals>=0.4.4 in .\\venv\\lib\\site-packages (from jupyter-server<3,>=1.18->voila) (0.5.3)\n",
      "Requirement already satisfied: nbformat>=5.3.0 in .\\venv\\lib\\site-packages (from jupyter-server<3,>=1.18->voila) (5.10.4)\n",
      "Requirement already satisfied: overrides>=5.0 in .\\venv\\lib\\site-packages (from jupyter-server<3,>=1.18->voila) (7.7.0)\n",
      "Requirement already satisfied: packaging>=22.0 in .\\venv\\lib\\site-packages (from jupyter-server<3,>=1.18->voila) (25.0)\n",
      "Requirement already satisfied: prometheus-client>=0.9 in .\\venv\\lib\\site-packages (from jupyter-server<3,>=1.18->voila) (0.22.0)\n",
      "Requirement already satisfied: pywinpty>=2.0.1 in .\\venv\\lib\\site-packages (from jupyter-server<3,>=1.18->voila) (2.0.15)\n",
      "Requirement already satisfied: send2trash>=1.8.2 in .\\venv\\lib\\site-packages (from jupyter-server<3,>=1.18->voila) (1.8.3)\n",
      "Requirement already satisfied: terminado>=0.8.3 in .\\venv\\lib\\site-packages (from jupyter-server<3,>=1.18->voila) (0.18.1)\n",
      "Requirement already satisfied: websocket-client>=1.7 in .\\venv\\lib\\site-packages (from jupyter-server<3,>=1.18->voila) (1.8.0)\n",
      "Requirement already satisfied: babel>=2.10 in .\\venv\\lib\\site-packages (from jupyterlab-server<3,>=2.3.0->voila) (2.17.0)\n",
      "Requirement already satisfied: json5>=0.9.0 in .\\venv\\lib\\site-packages (from jupyterlab-server<3,>=2.3.0->voila) (0.12.0)\n",
      "Requirement already satisfied: jsonschema>=4.18.0 in .\\venv\\lib\\site-packages (from jupyterlab-server<3,>=2.3.0->voila) (4.24.0)\n",
      "Requirement already satisfied: requests>=2.31 in .\\venv\\lib\\site-packages (from jupyterlab-server<3,>=2.3.0->voila) (2.32.3)\n",
      "Requirement already satisfied: beautifulsoup4 in .\\venv\\lib\\site-packages (from nbconvert<8,>=6.4.5->voila) (4.13.4)\n",
      "Requirement already satisfied: bleach!=5.0.0 in .\\venv\\lib\\site-packages (from bleach[css]!=5.0.0->nbconvert<8,>=6.4.5->voila) (6.2.0)\n",
      "Requirement already satisfied: defusedxml in .\\venv\\lib\\site-packages (from nbconvert<8,>=6.4.5->voila) (0.7.1)\n",
      "Requirement already satisfied: jupyterlab-pygments in .\\venv\\lib\\site-packages (from nbconvert<8,>=6.4.5->voila) (0.3.0)\n",
      "Requirement already satisfied: markupsafe>=2.0 in .\\venv\\lib\\site-packages (from nbconvert<8,>=6.4.5->voila) (3.0.2)\n",
      "Requirement already satisfied: mistune<4,>=2.0.3 in .\\venv\\lib\\site-packages (from nbconvert<8,>=6.4.5->voila) (3.1.3)\n",
      "Requirement already satisfied: pandocfilters>=1.4.1 in .\\venv\\lib\\site-packages (from nbconvert<8,>=6.4.5->voila) (1.5.1)\n",
      "Requirement already satisfied: pygments>=2.4.1 in .\\venv\\lib\\site-packages (from nbconvert<8,>=6.4.5->voila) (2.19.1)\n",
      "Requirement already satisfied: idna>=2.8 in .\\venv\\lib\\site-packages (from anyio>=3.1.0->jupyter-server<3,>=1.18->voila) (3.10)\n",
      "Requirement already satisfied: sniffio>=1.1 in .\\venv\\lib\\site-packages (from anyio>=3.1.0->jupyter-server<3,>=1.18->voila) (1.3.1)\n",
      "Requirement already satisfied: typing_extensions>=4.5 in .\\venv\\lib\\site-packages (from anyio>=3.1.0->jupyter-server<3,>=1.18->voila) (4.13.2)\n",
      "Requirement already satisfied: argon2-cffi-bindings in .\\venv\\lib\\site-packages (from argon2-cffi>=21.1->jupyter-server<3,>=1.18->voila) (21.2.0)\n",
      "Requirement already satisfied: webencodings in .\\venv\\lib\\site-packages (from bleach!=5.0.0->bleach[css]!=5.0.0->nbconvert<8,>=6.4.5->voila) (0.5.1)\n",
      "Requirement already satisfied: tinycss2<1.5,>=1.1.0 in .\\venv\\lib\\site-packages (from bleach[css]!=5.0.0->nbconvert<8,>=6.4.5->voila) (1.4.0)\n",
      "Requirement already satisfied: attrs>=22.2.0 in .\\venv\\lib\\site-packages (from jsonschema>=4.18.0->jupyterlab-server<3,>=2.3.0->voila) (25.3.0)\n",
      "Requirement already satisfied: jsonschema-specifications>=2023.03.6 in .\\venv\\lib\\site-packages (from jsonschema>=4.18.0->jupyterlab-server<3,>=2.3.0->voila) (2025.4.1)\n",
      "Requirement already satisfied: referencing>=0.28.4 in .\\venv\\lib\\site-packages (from jsonschema>=4.18.0->jupyterlab-server<3,>=2.3.0->voila) (0.36.2)\n",
      "Requirement already satisfied: rpds-py>=0.7.1 in .\\venv\\lib\\site-packages (from jsonschema>=4.18.0->jupyterlab-server<3,>=2.3.0->voila) (0.25.1)\n",
      "Requirement already satisfied: platformdirs>=2.5 in .\\venv\\lib\\site-packages (from jupyter-core>=4.11.0->voila) (4.3.8)\n",
      "Requirement already satisfied: pywin32>=300 in .\\venv\\lib\\site-packages (from jupyter-core>=4.11.0->voila) (310)\n",
      "Requirement already satisfied: python-json-logger>=2.0.4 in .\\venv\\lib\\site-packages (from jupyter-events>=0.11.0->jupyter-server<3,>=1.18->voila) (3.3.0)\n",
      "Requirement already satisfied: pyyaml>=5.3 in .\\venv\\lib\\site-packages (from jupyter-events>=0.11.0->jupyter-server<3,>=1.18->voila) (6.0.2)\n",
      "Requirement already satisfied: rfc3339-validator in .\\venv\\lib\\site-packages (from jupyter-events>=0.11.0->jupyter-server<3,>=1.18->voila) (0.1.4)\n",
      "Requirement already satisfied: rfc3986-validator>=0.1.1 in .\\venv\\lib\\site-packages (from jupyter-events>=0.11.0->jupyter-server<3,>=1.18->voila) (0.1.1)\n",
      "Requirement already satisfied: fqdn in .\\venv\\lib\\site-packages (from jsonschema[format-nongpl]>=4.18.0->jupyter-events>=0.11.0->jupyter-server<3,>=1.18->voila) (1.5.1)\n",
      "Requirement already satisfied: isoduration in .\\venv\\lib\\site-packages (from jsonschema[format-nongpl]>=4.18.0->jupyter-events>=0.11.0->jupyter-server<3,>=1.18->voila) (20.11.0)\n",
      "Requirement already satisfied: jsonpointer>1.13 in .\\venv\\lib\\site-packages (from jsonschema[format-nongpl]>=4.18.0->jupyter-events>=0.11.0->jupyter-server<3,>=1.18->voila) (3.0.0)\n",
      "Requirement already satisfied: uri-template in .\\venv\\lib\\site-packages (from jsonschema[format-nongpl]>=4.18.0->jupyter-events>=0.11.0->jupyter-server<3,>=1.18->voila) (1.3.0)\n",
      "Requirement already satisfied: webcolors>=24.6.0 in .\\venv\\lib\\site-packages (from jsonschema[format-nongpl]>=4.18.0->jupyter-events>=0.11.0->jupyter-server<3,>=1.18->voila) (24.11.1)\n",
      "Requirement already satisfied: fastjsonschema>=2.15 in .\\venv\\lib\\site-packages (from nbformat>=5.3.0->jupyter-server<3,>=1.18->voila) (2.21.1)\n",
      "Requirement already satisfied: six>=1.5 in .\\venv\\lib\\site-packages (from python-dateutil>=2.8.2->jupyter-client<9,>=7.4.4->voila) (1.17.0)\n",
      "Requirement already satisfied: charset-normalizer<4,>=2 in .\\venv\\lib\\site-packages (from requests>=2.31->jupyterlab-server<3,>=2.3.0->voila) (3.4.2)\n",
      "Requirement already satisfied: urllib3<3,>=1.21.1 in .\\venv\\lib\\site-packages (from requests>=2.31->jupyterlab-server<3,>=2.3.0->voila) (2.4.0)\n",
      "Requirement already satisfied: certifi>=2017.4.17 in .\\venv\\lib\\site-packages (from requests>=2.31->jupyterlab-server<3,>=2.3.0->voila) (2025.4.26)\n",
      "Requirement already satisfied: cffi>=1.0.1 in .\\venv\\lib\\site-packages (from argon2-cffi-bindings->argon2-cffi>=21.1->jupyter-server<3,>=1.18->voila) (1.17.1)\n",
      "Requirement already satisfied: pycparser in .\\venv\\lib\\site-packages (from cffi>=1.0.1->argon2-cffi-bindings->argon2-cffi>=21.1->jupyter-server<3,>=1.18->voila) (2.22)\n",
      "Requirement already satisfied: soupsieve>1.2 in .\\venv\\lib\\site-packages (from beautifulsoup4->nbconvert<8,>=6.4.5->voila) (2.7)\n",
      "Requirement already satisfied: arrow>=0.15.0 in .\\venv\\lib\\site-packages (from isoduration->jsonschema[format-nongpl]>=4.18.0->jupyter-events>=0.11.0->jupyter-server<3,>=1.18->voila) (1.3.0)\n",
      "Requirement already satisfied: types-python-dateutil>=2.8.10 in .\\venv\\lib\\site-packages (from arrow>=0.15.0->isoduration->jsonschema[format-nongpl]>=4.18.0->jupyter-events>=0.11.0->jupyter-server<3,>=1.18->voila) (2.9.0.20250516)\n",
      "Downloading voila-0.5.8-py3-none-any.whl (4.5 MB)\n",
      "   ---------------------------------------- 0.0/4.5 MB ? eta -:--:--\n",
      "   --------------------------- ------------ 3.1/4.5 MB 26.2 MB/s eta 0:00:01\n",
      "   ---------------------------------------- 4.5/4.5 MB 27.1 MB/s eta 0:00:00\n",
      "Downloading websockets-15.0.1-cp312-cp312-win_amd64.whl (176 kB)\n",
      "Installing collected packages: websockets, voila\n",
      "\n",
      "   ---------------------------------------- 0/2 [websockets]\n",
      "   ---------------------------------------- 0/2 [websockets]\n",
      "   ---------------------------------------- 0/2 [websockets]\n",
      "   ---------------------------------------- 0/2 [websockets]\n",
      "   ---------------------------------------- 0/2 [websockets]\n",
      "   -------------------- ------------------- 1/2 [voila]\n",
      "   -------------------- ------------------- 1/2 [voila]\n",
      "   -------------------- ------------------- 1/2 [voila]\n",
      "   -------------------- ------------------- 1/2 [voila]\n",
      "   -------------------- ------------------- 1/2 [voila]\n",
      "   -------------------- ------------------- 1/2 [voila]\n",
      "   ---------------------------------------- 2/2 [voila]\n",
      "\n",
      "Successfully installed voila-0.5.8 websockets-15.0.1\n"
     ]
    },
    {
     "name": "stderr",
     "output_type": "stream",
     "text": [
      "Enabling: voila\n",
      "- Writing config: C:\\Users\\prahk\\AppData\\Local\\Programs\\Python\\Python310\\etc\\jupyter\n",
      "    - Validating...\n",
      "Error loading server extension voila\n",
      "      X is voila importable?\n"
     ]
    },
    {
     "name": "stdout",
     "output_type": "stream",
     "text": [
      "^C\n"
     ]
    }
   ],
   "source": [
    "! pip install voila\n",
    "! jupyter serverextension enable --sys-prefix voila\n",
    "! jupyter notebook --VoilaConfiguration.theme='dark'"
   ]
  }
 ],
 "metadata": {
  "kernelspec": {
   "display_name": "venv",
   "language": "python",
   "name": "python3"
  },
  "language_info": {
   "codemirror_mode": {
    "name": "ipython",
    "version": 3
   },
   "file_extension": ".py",
   "mimetype": "text/x-python",
   "name": "python",
   "nbconvert_exporter": "python",
   "pygments_lexer": "ipython3",
   "version": "3.12.3"
  }
 },
 "nbformat": 4,
 "nbformat_minor": 2
}
